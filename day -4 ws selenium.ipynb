{
 "cells": [
  {
   "cell_type": "code",
   "execution_count": 43,
   "id": "29b04b3c",
   "metadata": {},
   "outputs": [
    {
     "name": "stdout",
     "output_type": "stream",
     "text": [
      "Requirement already satisfied: selenium in c:\\users\\geeth\\anaconda3\\lib\\site-packages (4.18.1)\n",
      "Requirement already satisfied: urllib3[socks]<3,>=1.26 in c:\\users\\geeth\\anaconda3\\lib\\site-packages (from selenium) (1.26.16)\n",
      "Requirement already satisfied: trio~=0.17 in c:\\users\\geeth\\anaconda3\\lib\\site-packages (from selenium) (0.24.0)\n",
      "Requirement already satisfied: trio-websocket~=0.9 in c:\\users\\geeth\\anaconda3\\lib\\site-packages (from selenium) (0.11.1)\n",
      "Requirement already satisfied: certifi>=2021.10.8 in c:\\users\\geeth\\anaconda3\\lib\\site-packages (from selenium) (2023.7.22)\n",
      "Requirement already satisfied: typing_extensions>=4.9.0 in c:\\users\\geeth\\anaconda3\\lib\\site-packages (from selenium) (4.10.0)\n",
      "Requirement already satisfied: attrs>=20.1.0 in c:\\users\\geeth\\anaconda3\\lib\\site-packages (from trio~=0.17->selenium) (22.1.0)\n",
      "Requirement already satisfied: sortedcontainers in c:\\users\\geeth\\anaconda3\\lib\\site-packages (from trio~=0.17->selenium) (2.4.0)\n",
      "Requirement already satisfied: idna in c:\\users\\geeth\\anaconda3\\lib\\site-packages (from trio~=0.17->selenium) (3.4)\n",
      "Requirement already satisfied: outcome in c:\\users\\geeth\\anaconda3\\lib\\site-packages (from trio~=0.17->selenium) (1.3.0.post0)\n",
      "Requirement already satisfied: sniffio>=1.3.0 in c:\\users\\geeth\\anaconda3\\lib\\site-packages (from trio~=0.17->selenium) (1.3.1)\n",
      "Requirement already satisfied: cffi>=1.14 in c:\\users\\geeth\\anaconda3\\lib\\site-packages (from trio~=0.17->selenium) (1.15.1)\n",
      "Requirement already satisfied: wsproto>=0.14 in c:\\users\\geeth\\anaconda3\\lib\\site-packages (from trio-websocket~=0.9->selenium) (1.2.0)\n",
      "Requirement already satisfied: PySocks!=1.5.7,<2.0,>=1.5.6 in c:\\users\\geeth\\anaconda3\\lib\\site-packages (from urllib3[socks]<3,>=1.26->selenium) (1.7.1)\n",
      "Requirement already satisfied: pycparser in c:\\users\\geeth\\anaconda3\\lib\\site-packages (from cffi>=1.14->trio~=0.17->selenium) (2.21)\n",
      "Requirement already satisfied: h11<1,>=0.9.0 in c:\\users\\geeth\\anaconda3\\lib\\site-packages (from wsproto>=0.14->trio-websocket~=0.9->selenium) (0.14.0)\n"
     ]
    }
   ],
   "source": [
    "!pip install selenium"
   ]
  },
  {
   "cell_type": "code",
   "execution_count": 2,
   "id": "67b5a743",
   "metadata": {},
   "outputs": [
    {
     "name": "stdout",
     "output_type": "stream",
     "text": [
      "Requirement already satisfied: webdriver_manager in c:\\users\\geeth\\anaconda3\\lib\\site-packages (4.0.1)\n",
      "Requirement already satisfied: requests in c:\\users\\geeth\\anaconda3\\lib\\site-packages (from webdriver_manager) (2.31.0)\n",
      "Requirement already satisfied: python-dotenv in c:\\users\\geeth\\anaconda3\\lib\\site-packages (from webdriver_manager) (0.21.0)\n",
      "Requirement already satisfied: packaging in c:\\users\\geeth\\anaconda3\\lib\\site-packages (from webdriver_manager) (23.1)\n",
      "Requirement already satisfied: charset-normalizer<4,>=2 in c:\\users\\geeth\\anaconda3\\lib\\site-packages (from requests->webdriver_manager) (2.0.4)\n",
      "Requirement already satisfied: idna<4,>=2.5 in c:\\users\\geeth\\anaconda3\\lib\\site-packages (from requests->webdriver_manager) (3.4)\n",
      "Requirement already satisfied: urllib3<3,>=1.21.1 in c:\\users\\geeth\\anaconda3\\lib\\site-packages (from requests->webdriver_manager) (1.26.16)\n",
      "Requirement already satisfied: certifi>=2017.4.17 in c:\\users\\geeth\\anaconda3\\lib\\site-packages (from requests->webdriver_manager) (2023.7.22)\n"
     ]
    }
   ],
   "source": [
    "!pip install webdriver_manager"
   ]
  },
  {
   "cell_type": "code",
   "execution_count": 44,
   "id": "a8070b8d",
   "metadata": {},
   "outputs": [],
   "source": [
    "import selenium \n",
    "from selenium import webdriver\n",
    "from selenium.webdriver.chrome.options import Options #properties\n",
    "from selenium.webdriver.common.by import By\n",
    "from selenium.webdriver.common.keys import Keys \n",
    "from webdriver_manager.chrome import ChromeDriverManager\n",
    "import pandas as pd"
   ]
  },
  {
   "cell_type": "code",
   "execution_count": 34,
   "id": "6bbbfe2e",
   "metadata": {},
   "outputs": [],
   "source": [
    "#define options and set browser capabilities\n",
    "options=webdriver.ChromeOptions()\n",
    "\n"
   ]
  },
  {
   "cell_type": "code",
   "execution_count": 35,
   "id": "22aa19b7",
   "metadata": {},
   "outputs": [],
   "source": [
    "#options.add_arguement('--same-option')\n",
    "driver=webdriver.Chrome(options=options)"
   ]
  },
  {
   "cell_type": "code",
   "execution_count": 36,
   "id": "4a4fffe0",
   "metadata": {},
   "outputs": [],
   "source": [
    "#navigate to a website\n",
    "driver.get('https://www.myntra.com/')"
   ]
  },
  {
   "cell_type": "code",
   "execution_count": 37,
   "id": "146668f8",
   "metadata": {},
   "outputs": [],
   "source": [
    "search = driver.find_element(By.XPATH ,\".//input[@class='desktop-searchBar']\")"
   ]
  },
  {
   "cell_type": "code",
   "execution_count": 38,
   "id": "48b94e8f",
   "metadata": {},
   "outputs": [],
   "source": [
    "search.send_keys(\"Cardigan Tops\")"
   ]
  },
  {
   "cell_type": "code",
   "execution_count": 39,
   "id": "1026bc3f",
   "metadata": {},
   "outputs": [],
   "source": [
    "search.send_keys(Keys.ENTER)"
   ]
  },
  {
   "cell_type": "code",
   "execution_count": 43,
   "id": "7bdfdb2f",
   "metadata": {},
   "outputs": [],
   "source": [
    "bd=driver.find_elements(By.XPATH,\".//h3[@class='product-brand']\")\n",
    "bd=[i.text for i in bd]"
   ]
  },
  {
   "cell_type": "code",
   "execution_count": 44,
   "id": "21085421",
   "metadata": {},
   "outputs": [
    {
     "name": "stdout",
     "output_type": "stream",
     "text": [
      "['JoE Hazel', 'JoE Hazel', 'JoE Hazel', 'Tokyo Talkies', 'Tokyo Talkies', 'Roadster', 'Tokyo Talkies', 'LULU & SKY', 'Ardene', 'LULU & SKY', 'Roadster', 'Roadster', 'Roadster']\n",
      "13\n"
     ]
    }
   ],
   "source": [
    "print(bd)\n",
    "print(len(bd))"
   ]
  },
  {
   "cell_type": "code",
   "execution_count": 51,
   "id": "7a9f7194",
   "metadata": {},
   "outputs": [],
   "source": [
    "pd=driver.find_elements(By.XPATH,\".//h4[@class='product-product']\")\n",
    "pds=[i.text for i in pd]"
   ]
  },
  {
   "cell_type": "code",
   "execution_count": 54,
   "id": "be5bed92",
   "metadata": {},
   "outputs": [
    {
     "name": "stdout",
     "output_type": "stream",
     "text": [
      "['Woman Pink Cardigan', 'Woman Green Cardigan', 'Woman Black Cardigan', 'Crop Top With Cardigan', 'Crop Top With Cardigan', 'Solid Cardigan Set', 'Crop Top With Cardigan Sweater', 'Crop Top With Cardigan', 'Cardigan Style Crop Top', 'Mandarin Collar Cardigan Top', 'Solid Cardigan Set', 'Solid Cardigan Set', 'Solid Cardigan Set']\n",
      "13\n"
     ]
    }
   ],
   "source": [
    "print(pds)\n",
    "print(len(pds))\n",
    "\n",
    "\n"
   ]
  },
  {
   "cell_type": "code",
   "execution_count": 64,
   "id": "4188f3af",
   "metadata": {},
   "outputs": [],
   "source": [
    "price=driver.find_elements(By.XPATH,\".//span[@class='product-discountedPrice']\")\n",
    "\n",
    "prices=[i.text for i in price]"
   ]
  },
  {
   "cell_type": "code",
   "execution_count": 65,
   "id": "b373da47",
   "metadata": {},
   "outputs": [
    {
     "name": "stdout",
     "output_type": "stream",
     "text": [
      "['Rs. 699', 'Rs. 699', 'Rs. 699', 'Rs. 1956', 'Rs. 1399', 'Rs. 1079', 'Rs. 1549', 'Rs. 1856', 'Rs. 1899', 'Rs. 1681', 'Rs. 719', 'Rs. 839', 'Rs. 1079']\n",
      "13\n"
     ]
    }
   ],
   "source": [
    "print(prices)\n",
    "print(len(prices))\n"
   ]
  },
  {
   "cell_type": "code",
   "execution_count": 71,
   "id": "af31ac50",
   "metadata": {},
   "outputs": [
    {
     "ename": "AttributeError",
     "evalue": "'list' object has no attribute 'DataFrame'",
     "output_type": "error",
     "traceback": [
      "\u001b[1;31m---------------------------------------------------------------------------\u001b[0m",
      "\u001b[1;31mAttributeError\u001b[0m                            Traceback (most recent call last)",
      "Cell \u001b[1;32mIn[71], line 1\u001b[0m\n\u001b[1;32m----> 1\u001b[0m df\u001b[38;5;241m=\u001b[39mpd\u001b[38;5;241m.\u001b[39mDataFrame(columns\u001b[38;5;241m=\u001b[39m[\u001b[38;5;124m\"\u001b[39m\u001b[38;5;124mbd\u001b[39m\u001b[38;5;124m\"\u001b[39m,\u001b[38;5;124m\"\u001b[39m\u001b[38;5;124mpds\u001b[39m\u001b[38;5;124m\"\u001b[39m,\u001b[38;5;124m\"\u001b[39m\u001b[38;5;124mprices\u001b[39m\u001b[38;5;124m\"\u001b[39m])\n\u001b[0;32m      2\u001b[0m df\n",
      "\u001b[1;31mAttributeError\u001b[0m: 'list' object has no attribute 'DataFrame'"
     ]
    }
   ],
   "source": [
    "df=pd.DataFrame(columns=[\"bd\",\"pds\",\"prices\"])\n",
    "df"
   ]
  },
  {
   "cell_type": "code",
   "execution_count": 67,
   "id": "d972403d",
   "metadata": {},
   "outputs": [
    {
     "ename": "NameError",
     "evalue": "name 'df' is not defined",
     "output_type": "error",
     "traceback": [
      "\u001b[1;31m---------------------------------------------------------------------------\u001b[0m",
      "\u001b[1;31mNameError\u001b[0m                                 Traceback (most recent call last)",
      "Cell \u001b[1;32mIn[67], line 1\u001b[0m\n\u001b[1;32m----> 1\u001b[0m df[Brand]\u001b[38;5;241m=\u001b[39mbd\n\u001b[0;32m      2\u001b[0m df[Desc]\u001b[38;5;241m=\u001b[39mpds\n\u001b[0;32m      3\u001b[0m df[Price]\u001b[38;5;241m=\u001b[39mprices\n",
      "\u001b[1;31mNameError\u001b[0m: name 'df' is not defined"
     ]
    }
   ],
   "source": [
    "df[Brand]=bd\n",
    "df[Desc]=pds\n",
    "df[Price]=prices"
   ]
  },
  {
   "cell_type": "code",
   "execution_count": 7,
   "id": "e5fd2b6e",
   "metadata": {},
   "outputs": [],
   "source": [
    "import selenium\n",
    "from selenium import webdriver\n",
    "from selenium.webdriver.chrome.options import Options\n",
    "from selenium.webdriver.common.by import By\n",
    "from selenium.webdriver.common.keys import Keys\n",
    "from webdriver_manager.chrome import ChromeDriverManager\n",
    "import pandas as pd\n"
   ]
  },
  {
   "cell_type": "code",
   "execution_count": 8,
   "id": "813ba86f",
   "metadata": {},
   "outputs": [],
   "source": [
    "options=webdriver.ChromeOptions()\n",
    "driver=webdriver.Chrome(options=options)"
   ]
  },
  {
   "cell_type": "code",
   "execution_count": 45,
   "id": "4aab5148",
   "metadata": {},
   "outputs": [],
   "source": [
    "driver.get('https://www.amazon.in/')"
   ]
  },
  {
   "cell_type": "code",
   "execution_count": 46,
   "id": "41c45ba6",
   "metadata": {},
   "outputs": [],
   "source": [
    "search=driver.find_element(By.XPATH,\".//input[@class='nav-input nav-progressive-attribute']\")"
   ]
  },
  {
   "cell_type": "code",
   "execution_count": 47,
   "id": "02c92f4f",
   "metadata": {},
   "outputs": [],
   "source": [
    "search.send_keys(\"dell laptops\")"
   ]
  },
  {
   "cell_type": "code",
   "execution_count": 48,
   "id": "c632657d",
   "metadata": {},
   "outputs": [],
   "source": [
    "search.send_keys(Keys.ENTER)"
   ]
  },
  {
   "cell_type": "code",
   "execution_count": 49,
   "id": "6a515878",
   "metadata": {},
   "outputs": [
    {
     "name": "stdout",
     "output_type": "stream",
     "text": [
      "['Dell 15 Laptop, Intel Core i3-1115G4, 8GB/1TB + 256GB SSD/15.6\" (39.62cm) FHD with Comfort View/Mobile Connect/Windows 11 + MSO\\'21/15 Month McAfee/Spill-Resistant Keyboard/Carbon/Thin & Light-1.69kg', 'Dell 14 Laptop, 12th Gen Intel Core i5-1235U Processor, 16GB, 512GB, 14.0\" (35.56cm) FHD Display, Windows 11 + MSO\\'21, Spill-Resistant Keyboard, 15 Month Mcafee, Black, Thin & Light- 1.48kg', 'Dell Latitude 7390 Laptop, 13.3\" FHD Touch Display, Intel Core i5-8350U Upto 3.6GHz, 8GB RAM, 256GB SSD, DisplayPort via USB-C, HDMI, Qualcomm WWAN, Wi-Fi, Bluetooth, Windows 10 Pro (Renewed)', 'Dell 15 Laptop, Intel Core i3-1115G4 Processor/8GB DDR4/512GB SSD/Intel UHD Graphics/15.6\" (39.6cm) FHD 120Hz Refresh, 250 nits/Mobile Connect/Win 11+MSO\\'21/15 Month McAfee/Black/Thin & Light-1.66kg', 'Dell 15 Laptop, Intel Core i5-1135G7 Processor/16GB DDR4/512GB SSD/Intel UHD Graphic/15.6\" (39.562cm) FHD Display/Win 11+MSO\\'21/15 Month McAfee/Spill-Resistant Keyboard/Carbon/Thin & Light 1.69kg', 'Dell 15 Laptop, Intel Core i5-1135G7 Processor/ 8GB/ 1TB+256GB SSD/15.6\"(39.62cm) FHD Display/Mobile Connect/Windows 11 + MSO\\'21/15 Month McAfee/Spill-Resistant Keyboard/Black/Thin & Light 1.69kg', 'Dell 15 Laptop, Intel Core i5-1135G7 Processor/ 8GB DDR4/ 512GB SSD/ 15.6\" (39.62cm) FHD/Mobile Connect/Windows 11 + MSO\\'21/15 Month McAfee/Spill-Resistant Keyboard/Carbon Black/Thin & Light-1.69kg', 'Dell 14 Laptop, 12th Gen Intel Core i5-1235U Processor, 16GB, 512GB, 14.0\" (35.56cm) FHD Display, Windows 11 + MSO\\'21, Spill-Resistant Keyboard, 15 Month Mcafee, Black, Thin & Light- 1.48kg', 'Dell Inspiron 3530 Laptop, 13th Gen Intel Core i5-1335U Processor/16GB/1TB SSD/15.6\" (39.62cm) FHD Display/Backlit Keyboard/Platinum Silver/Win 11 + MSO\\'21/15 Month McAfee/Thin & Light- 1.66kg', 'Dell Inspiron 3530 Laptop, Intel Core i7-1355U Processor, 16GB, 512GB, 15.6\" (39.62cm) FHD WVA AG 120Hz, Backlit KB + FPR, Win 11 + MSO\\'21, 15 Month McAfee, Silver, 1.62kg']\n"
     ]
    }
   ],
   "source": [
    "brand=driver.find_elements(By.XPATH,\"//span[@class='a-size-medium a-color-base a-text-normal']\")\n",
    "brands=[i.text for i in brand]\n",
    "brandss=brands[0:10]\n",
    "print(brandss)"
   ]
  },
  {
   "cell_type": "code",
   "execution_count": 50,
   "id": "894df200",
   "metadata": {},
   "outputs": [
    {
     "name": "stdout",
     "output_type": "stream",
     "text": [
      "['', 'Deal of the Day', '₹34,990 M.R.P:\\n₹51,362 (32% off)', '', 'FREE delivery Fri, 1 Mar', '', 'Deal of the Day', '₹49,990 M.R.P:\\n₹62,511 (20% off)', '', 'FREE delivery Fri, 1 Mar']\n"
     ]
    }
   ],
   "source": [
    "price=driver.find_elements(By.XPATH,\".//div[@class='a-row']\")\n",
    "prices=[i.text for i in price]\n",
    "pricing=prices[0:10]\n",
    "print(pricing)"
   ]
  },
  {
   "cell_type": "code",
   "execution_count": 51,
   "id": "f4fe8ecf",
   "metadata": {},
   "outputs": [
    {
     "name": "stdout",
     "output_type": "stream",
     "text": [
      "10\n",
      "10\n"
     ]
    }
   ],
   "source": [
    "print(len(pricing))\n",
    "print(len(brandss))"
   ]
  },
  {
   "cell_type": "code",
   "execution_count": 52,
   "id": "2a8484e3",
   "metadata": {},
   "outputs": [
    {
     "data": {
      "text/html": [
       "<div>\n",
       "<style scoped>\n",
       "    .dataframe tbody tr th:only-of-type {\n",
       "        vertical-align: middle;\n",
       "    }\n",
       "\n",
       "    .dataframe tbody tr th {\n",
       "        vertical-align: top;\n",
       "    }\n",
       "\n",
       "    .dataframe thead th {\n",
       "        text-align: right;\n",
       "    }\n",
       "</style>\n",
       "<table border=\"1\" class=\"dataframe\">\n",
       "  <thead>\n",
       "    <tr style=\"text-align: right;\">\n",
       "      <th></th>\n",
       "      <th>Brand</th>\n",
       "      <th>Price</th>\n",
       "    </tr>\n",
       "  </thead>\n",
       "  <tbody>\n",
       "  </tbody>\n",
       "</table>\n",
       "</div>"
      ],
      "text/plain": [
       "Empty DataFrame\n",
       "Columns: [Brand, Price]\n",
       "Index: []"
      ]
     },
     "execution_count": 52,
     "metadata": {},
     "output_type": "execute_result"
    }
   ],
   "source": [
    "import pandas as pd\n",
    "df=pd.DataFrame(columns=[\"Brand\",\"Price\"])\n",
    "df"
   ]
  },
  {
   "cell_type": "code",
   "execution_count": 53,
   "id": "0233ab81",
   "metadata": {},
   "outputs": [
    {
     "data": {
      "text/html": [
       "<div>\n",
       "<style scoped>\n",
       "    .dataframe tbody tr th:only-of-type {\n",
       "        vertical-align: middle;\n",
       "    }\n",
       "\n",
       "    .dataframe tbody tr th {\n",
       "        vertical-align: top;\n",
       "    }\n",
       "\n",
       "    .dataframe thead th {\n",
       "        text-align: right;\n",
       "    }\n",
       "</style>\n",
       "<table border=\"1\" class=\"dataframe\">\n",
       "  <thead>\n",
       "    <tr style=\"text-align: right;\">\n",
       "      <th></th>\n",
       "      <th>Brand</th>\n",
       "      <th>Price</th>\n",
       "    </tr>\n",
       "  </thead>\n",
       "  <tbody>\n",
       "    <tr>\n",
       "      <th>0</th>\n",
       "      <td>Dell 15 Laptop, Intel Core i3-1115G4, 8GB/1TB ...</td>\n",
       "      <td></td>\n",
       "    </tr>\n",
       "    <tr>\n",
       "      <th>1</th>\n",
       "      <td>Dell 14 Laptop, 12th Gen Intel Core i5-1235U P...</td>\n",
       "      <td>Deal of the Day</td>\n",
       "    </tr>\n",
       "    <tr>\n",
       "      <th>2</th>\n",
       "      <td>Dell Latitude 7390 Laptop, 13.3\" FHD Touch Dis...</td>\n",
       "      <td>₹34,990 M.R.P:\\n₹51,362 (32% off)</td>\n",
       "    </tr>\n",
       "    <tr>\n",
       "      <th>3</th>\n",
       "      <td>Dell 15 Laptop, Intel Core i3-1115G4 Processor...</td>\n",
       "      <td></td>\n",
       "    </tr>\n",
       "    <tr>\n",
       "      <th>4</th>\n",
       "      <td>Dell 15 Laptop, Intel Core i5-1135G7 Processor...</td>\n",
       "      <td>FREE delivery Fri, 1 Mar</td>\n",
       "    </tr>\n",
       "    <tr>\n",
       "      <th>5</th>\n",
       "      <td>Dell 15 Laptop, Intel Core i5-1135G7 Processor...</td>\n",
       "      <td></td>\n",
       "    </tr>\n",
       "    <tr>\n",
       "      <th>6</th>\n",
       "      <td>Dell 15 Laptop, Intel Core i5-1135G7 Processor...</td>\n",
       "      <td>Deal of the Day</td>\n",
       "    </tr>\n",
       "    <tr>\n",
       "      <th>7</th>\n",
       "      <td>Dell 14 Laptop, 12th Gen Intel Core i5-1235U P...</td>\n",
       "      <td>₹49,990 M.R.P:\\n₹62,511 (20% off)</td>\n",
       "    </tr>\n",
       "    <tr>\n",
       "      <th>8</th>\n",
       "      <td>Dell Inspiron 3530 Laptop, 13th Gen Intel Core...</td>\n",
       "      <td></td>\n",
       "    </tr>\n",
       "    <tr>\n",
       "      <th>9</th>\n",
       "      <td>Dell Inspiron 3530 Laptop, Intel Core i7-1355U...</td>\n",
       "      <td>FREE delivery Fri, 1 Mar</td>\n",
       "    </tr>\n",
       "  </tbody>\n",
       "</table>\n",
       "</div>"
      ],
      "text/plain": [
       "                                               Brand  \\\n",
       "0  Dell 15 Laptop, Intel Core i3-1115G4, 8GB/1TB ...   \n",
       "1  Dell 14 Laptop, 12th Gen Intel Core i5-1235U P...   \n",
       "2  Dell Latitude 7390 Laptop, 13.3\" FHD Touch Dis...   \n",
       "3  Dell 15 Laptop, Intel Core i3-1115G4 Processor...   \n",
       "4  Dell 15 Laptop, Intel Core i5-1135G7 Processor...   \n",
       "5  Dell 15 Laptop, Intel Core i5-1135G7 Processor...   \n",
       "6  Dell 15 Laptop, Intel Core i5-1135G7 Processor...   \n",
       "7  Dell 14 Laptop, 12th Gen Intel Core i5-1235U P...   \n",
       "8  Dell Inspiron 3530 Laptop, 13th Gen Intel Core...   \n",
       "9  Dell Inspiron 3530 Laptop, Intel Core i7-1355U...   \n",
       "\n",
       "                               Price  \n",
       "0                                     \n",
       "1                    Deal of the Day  \n",
       "2  ₹34,990 M.R.P:\\n₹51,362 (32% off)  \n",
       "3                                     \n",
       "4           FREE delivery Fri, 1 Mar  \n",
       "5                                     \n",
       "6                    Deal of the Day  \n",
       "7  ₹49,990 M.R.P:\\n₹62,511 (20% off)  \n",
       "8                                     \n",
       "9           FREE delivery Fri, 1 Mar  "
      ]
     },
     "execution_count": 53,
     "metadata": {},
     "output_type": "execute_result"
    }
   ],
   "source": [
    "df[\"Brand\"]=brandss\n",
    "df[\"Price\"]=pricing\n",
    "df"
   ]
  },
  {
   "cell_type": "code",
   "execution_count": 54,
   "id": "b56b7dd1",
   "metadata": {},
   "outputs": [],
   "source": [
    "df.to_csv(\"df.csv\")"
   ]
  },
  {
   "cell_type": "code",
   "execution_count": 55,
   "id": "d67d7553",
   "metadata": {},
   "outputs": [],
   "source": [
    "import selenium\n",
    "from selenium import webdriver\n",
    "from selenium.webdriver.chrome.options import Options\n",
    "from selenium.webdriver.common.by import By\n",
    "from selenium.webdriver.common.keys import Keys\n",
    "from webdriver_manager.chrome import ChromeDriverManager\n",
    "import pandas as pd\n",
    "\n"
   ]
  },
  {
   "cell_type": "code",
   "execution_count": 56,
   "id": "40e3bc6c",
   "metadata": {},
   "outputs": [],
   "source": [
    "options=webdriver.ChromeOptions()\n",
    "driver=webdriver.Chrome(options=options)"
   ]
  },
  {
   "cell_type": "code",
   "execution_count": 57,
   "id": "d0092f3c",
   "metadata": {},
   "outputs": [],
   "source": [
    "driver.get('https://www.myntra.com/')"
   ]
  },
  {
   "cell_type": "code",
   "execution_count": 58,
   "id": "9d68fc7c",
   "metadata": {},
   "outputs": [],
   "source": [
    "search=driver.find_element(By.XPATH,\".//input[@class='desktop-searchBar']\")"
   ]
  },
  {
   "cell_type": "code",
   "execution_count": 59,
   "id": "7b243b13",
   "metadata": {},
   "outputs": [],
   "source": [
    "search.send_keys(\"smart watches\")"
   ]
  },
  {
   "cell_type": "code",
   "execution_count": 60,
   "id": "6578dfd4",
   "metadata": {},
   "outputs": [],
   "source": [
    "search.send_keys(Keys.ENTER)"
   ]
  },
  {
   "cell_type": "code",
   "execution_count": 63,
   "id": "c5545cd5",
   "metadata": {},
   "outputs": [
    {
     "ename": "SyntaxError",
     "evalue": "invalid non-printable character U+00A0 (3347054158.py, line 2)",
     "output_type": "error",
     "traceback": [
      "\u001b[1;36m  Cell \u001b[1;32mIn[63], line 2\u001b[1;36m\u001b[0m\n\u001b[1;33m    brand=[i.text for i in brand]\u001b[0m\n\u001b[1;37m                 ^\u001b[0m\n\u001b[1;31mSyntaxError\u001b[0m\u001b[1;31m:\u001b[0m invalid non-printable character U+00A0\n"
     ]
    }
   ],
   "source": [
    "brand=driver.find_elements(By.XPATH,\".//h3[@class='product-brand']\")\n",
    "brands=[i.text for i in brand]\n",
    "brands"
   ]
  },
  {
   "cell_type": "markdown",
   "id": "c3f0abb2",
   "metadata": {},
   "source": [
    "\n",
    "product=driver.find_elements(By.XPATH,\".//h4[@class='product-product']\")\n",
    "products=[i.text for i in product]"
   ]
  },
  {
   "cell_type": "code",
   "execution_count": 64,
   "id": "98573e90",
   "metadata": {},
   "outputs": [
    {
     "ename": "SyntaxError",
     "evalue": "invalid non-printable character U+00A0 (3598445836.py, line 2)",
     "output_type": "error",
     "traceback": [
      "\u001b[1;36m  Cell \u001b[1;32mIn[64], line 2\u001b[1;36m\u001b[0m\n\u001b[1;33m    prices=[i.text for i in price]\u001b[0m\n\u001b[1;37m                  ^\u001b[0m\n\u001b[1;31mSyntaxError\u001b[0m\u001b[1;31m:\u001b[0m invalid non-printable character U+00A0\n"
     ]
    }
   ],
   "source": [
    "price=driver.find_elements(By.XPATH,\"//span[@class='product-discountedPrice']\")\n",
    "prices=[i.text for i in price]"
   ]
  },
  {
   "cell_type": "code",
   "execution_count": null,
   "id": "df92ff63",
   "metadata": {},
   "outputs": [],
   "source": [
    "print(len(brands))\n",
    "print(len(products))\n",
    "print(len(prices))"
   ]
  },
  {
   "cell_type": "code",
   "execution_count": null,
   "id": "b9d27c7a",
   "metadata": {},
   "outputs": [],
   "source": [
    "df=pd.DataFrame(columns=[\"Brand\",\"Product\",\"Price\"])\n",
    "df"
   ]
  },
  {
   "cell_type": "code",
   "execution_count": null,
   "id": "d34a5401",
   "metadata": {},
   "outputs": [],
   "source": [
    "df[\"Brand\"]=brands\n",
    "df[\"Product\"]=products\n",
    "df[\"Price\"]=prices\n",
    "df"
   ]
  },
  {
   "cell_type": "code",
   "execution_count": null,
   "id": "1c9c3e70",
   "metadata": {},
   "outputs": [],
   "source": [
    "df.to_csv(\"Mydf.csv\")"
   ]
  },
  {
   "cell_type": "code",
   "execution_count": null,
   "id": "e1e4a26a",
   "metadata": {},
   "outputs": [],
   "source": [
    "from bs4 import BeautifulSoup\n",
    "import requests"
   ]
  },
  {
   "cell_type": "code",
   "execution_count": null,
   "id": "00e8b1c3",
   "metadata": {},
   "outputs": [],
   "source": [
    "url=\"https://en.m.wikipedia.org/wiki/List_of_tallest_buildings_in_India\""
   ]
  },
  {
   "cell_type": "code",
   "execution_count": null,
   "id": "59a01aa8",
   "metadata": {},
   "outputs": [],
   "source": [
    "page=requests.get(url)"
   ]
  },
  {
   "cell_type": "code",
   "execution_count": null,
   "id": "c9d848d9",
   "metadata": {},
   "outputs": [],
   "source": [
    "code=BeautifulSoup(page.text,'html')\n",
    "print(code)"
   ]
  },
  {
   "cell_type": "code",
   "execution_count": null,
   "id": "bf19f719",
   "metadata": {},
   "outputs": [],
   "source": [
    "t=code.find('table')\n",
    "print(t)"
   ]
  },
  {
   "cell_type": "code",
   "execution_count": null,
   "id": "38eeefca",
   "metadata": {},
   "outputs": [],
   "source": [
    "t=code.find('table')\n",
    "print(t)"
   ]
  },
  {
   "cell_type": "code",
   "execution_count": null,
   "id": "9700983c",
   "metadata": {},
   "outputs": [],
   "source": [
    "head=[i.text for i in h]\n",
    "print(head)"
   ]
  },
  {
   "cell_type": "code",
   "execution_count": null,
   "id": "8a26506a",
   "metadata": {},
   "outputs": [],
   "source": []
  },
  {
   "cell_type": "code",
   "execution_count": null,
   "id": "4d8a81a0",
   "metadata": {},
   "outputs": [],
   "source": []
  }
 ],
 "metadata": {
  "kernelspec": {
   "display_name": "Python 3 (ipykernel)",
   "language": "python",
   "name": "python3"
  },
  "language_info": {
   "codemirror_mode": {
    "name": "ipython",
    "version": 3
   },
   "file_extension": ".py",
   "mimetype": "text/x-python",
   "name": "python",
   "nbconvert_exporter": "python",
   "pygments_lexer": "ipython3",
   "version": "3.11.5"
  }
 },
 "nbformat": 4,
 "nbformat_minor": 5
}
